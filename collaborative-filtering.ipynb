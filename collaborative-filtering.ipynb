{
 "cells": [
  {
   "cell_type": "code",
   "execution_count": 1,
   "id": "5f941e25",
   "metadata": {
    "_cell_guid": "b1076dfc-b9ad-4769-8c92-a6c4dae69d19",
    "_uuid": "8f2839f25d086af736a60e9eeb907d3b93b6e0e5",
    "execution": {
     "iopub.execute_input": "2024-06-07T11:59:55.051988Z",
     "iopub.status.busy": "2024-06-07T11:59:55.051542Z",
     "iopub.status.idle": "2024-06-07T11:59:56.024767Z",
     "shell.execute_reply": "2024-06-07T11:59:56.023458Z"
    },
    "papermill": {
     "duration": 0.983763,
     "end_time": "2024-06-07T11:59:56.027354",
     "exception": false,
     "start_time": "2024-06-07T11:59:55.043591",
     "status": "completed"
    },
    "tags": []
   },
   "outputs": [
    {
     "name": "stdout",
     "output_type": "stream",
     "text": [
      "/kaggle/input/dataset-for-collaborative-filters/songsDataset.csv\n"
     ]
    }
   ],
   "source": [
    "# This Python 3 environment comes with many helpful analytics libraries installed\n",
    "# It is defined by the kaggle/python Docker image: https://github.com/kaggle/docker-python\n",
    "# For example, here's several helpful packages to load\n",
    "\n",
    "import numpy as np # linear algebra\n",
    "import pandas as pd # data processing, CSV file I/O (e.g. pd.read_csv)\n",
    "\n",
    "# Input data files are available in the read-only \"../input/\" directory\n",
    "# For example, running this (by clicking run or pressing Shift+Enter) will list all files under the input directory\n",
    "\n",
    "import os\n",
    "for dirname, _, filenames in os.walk('/kaggle/input'):\n",
    "    for filename in filenames:\n",
    "        print(os.path.join(dirname, filename))\n",
    "\n",
    "# You can write up to 20GB to the current directory (/kaggle/working/) that gets preserved as output when you create a version using \"Save & Run All\" \n",
    "# You can also write temporary files to /kaggle/temp/, but they won't be saved outside of the current session"
   ]
  },
  {
   "cell_type": "code",
   "execution_count": 2,
   "id": "0427f59d",
   "metadata": {
    "execution": {
     "iopub.execute_input": "2024-06-07T11:59:56.040966Z",
     "iopub.status.busy": "2024-06-07T11:59:56.040437Z",
     "iopub.status.idle": "2024-06-07T11:59:56.808978Z",
     "shell.execute_reply": "2024-06-07T11:59:56.807869Z"
    },
    "papermill": {
     "duration": 0.778194,
     "end_time": "2024-06-07T11:59:56.811495",
     "exception": false,
     "start_time": "2024-06-07T11:59:56.033301",
     "status": "completed"
    },
    "tags": []
   },
   "outputs": [],
   "source": [
    "df = pd.read_csv(\"/kaggle/input/dataset-for-collaborative-filters/songsDataset.csv\")"
   ]
  },
  {
   "cell_type": "code",
   "execution_count": 3,
   "id": "8c70ba0a",
   "metadata": {
    "execution": {
     "iopub.execute_input": "2024-06-07T11:59:56.824666Z",
     "iopub.status.busy": "2024-06-07T11:59:56.824266Z",
     "iopub.status.idle": "2024-06-07T11:59:56.906696Z",
     "shell.execute_reply": "2024-06-07T11:59:56.905446Z"
    },
    "papermill": {
     "duration": 0.091843,
     "end_time": "2024-06-07T11:59:56.909098",
     "exception": false,
     "start_time": "2024-06-07T11:59:56.817255",
     "status": "completed"
    },
    "tags": []
   },
   "outputs": [
    {
     "data": {
      "text/html": [
       "<div>\n",
       "<style scoped>\n",
       "    .dataframe tbody tr th:only-of-type {\n",
       "        vertical-align: middle;\n",
       "    }\n",
       "\n",
       "    .dataframe tbody tr th {\n",
       "        vertical-align: top;\n",
       "    }\n",
       "\n",
       "    .dataframe thead th {\n",
       "        text-align: right;\n",
       "    }\n",
       "</style>\n",
       "<table border=\"1\" class=\"dataframe\">\n",
       "  <thead>\n",
       "    <tr style=\"text-align: right;\">\n",
       "      <th></th>\n",
       "      <th>user_id</th>\n",
       "      <th>song_id</th>\n",
       "      <th>rating</th>\n",
       "    </tr>\n",
       "  </thead>\n",
       "  <tbody>\n",
       "    <tr>\n",
       "      <th>0</th>\n",
       "      <td>0</td>\n",
       "      <td>7171</td>\n",
       "      <td>5</td>\n",
       "    </tr>\n",
       "    <tr>\n",
       "      <th>1</th>\n",
       "      <td>0</td>\n",
       "      <td>8637</td>\n",
       "      <td>4</td>\n",
       "    </tr>\n",
       "    <tr>\n",
       "      <th>2</th>\n",
       "      <td>0</td>\n",
       "      <td>21966</td>\n",
       "      <td>4</td>\n",
       "    </tr>\n",
       "    <tr>\n",
       "      <th>3</th>\n",
       "      <td>0</td>\n",
       "      <td>35821</td>\n",
       "      <td>5</td>\n",
       "    </tr>\n",
       "    <tr>\n",
       "      <th>4</th>\n",
       "      <td>0</td>\n",
       "      <td>82446</td>\n",
       "      <td>5</td>\n",
       "    </tr>\n",
       "    <tr>\n",
       "      <th>...</th>\n",
       "      <td>...</td>\n",
       "      <td>...</td>\n",
       "      <td>...</td>\n",
       "    </tr>\n",
       "    <tr>\n",
       "      <th>1999995</th>\n",
       "      <td>199999</td>\n",
       "      <td>75840</td>\n",
       "      <td>2</td>\n",
       "    </tr>\n",
       "    <tr>\n",
       "      <th>1999996</th>\n",
       "      <td>199999</td>\n",
       "      <td>85921</td>\n",
       "      <td>1</td>\n",
       "    </tr>\n",
       "    <tr>\n",
       "      <th>1999997</th>\n",
       "      <td>199999</td>\n",
       "      <td>116763</td>\n",
       "      <td>1</td>\n",
       "    </tr>\n",
       "    <tr>\n",
       "      <th>1999998</th>\n",
       "      <td>199999</td>\n",
       "      <td>128758</td>\n",
       "      <td>1</td>\n",
       "    </tr>\n",
       "    <tr>\n",
       "      <th>1999999</th>\n",
       "      <td>199999</td>\n",
       "      <td>129321</td>\n",
       "      <td>1</td>\n",
       "    </tr>\n",
       "  </tbody>\n",
       "</table>\n",
       "<p>2000000 rows × 3 columns</p>\n",
       "</div>"
      ],
      "text/plain": [
       "         user_id  song_id  rating\n",
       "0              0     7171       5\n",
       "1              0     8637       4\n",
       "2              0    21966       4\n",
       "3              0    35821       5\n",
       "4              0    82446       5\n",
       "...          ...      ...     ...\n",
       "1999995   199999    75840       2\n",
       "1999996   199999    85921       1\n",
       "1999997   199999   116763       1\n",
       "1999998   199999   128758       1\n",
       "1999999   199999   129321       1\n",
       "\n",
       "[2000000 rows x 3 columns]"
      ]
     },
     "execution_count": 3,
     "metadata": {},
     "output_type": "execute_result"
    }
   ],
   "source": [
    "df['user_id'] = df[\"'userID'\"]\n",
    "df['song_id'] = df[\"'songID'\"]\n",
    "df['rating'] = df[\"'rating'\"]\n",
    "df.drop([\"'userID'\", \"'songID'\", \"'rating'\"], axis=1, inplace=True)\n",
    "df"
   ]
  },
  {
   "cell_type": "code",
   "execution_count": 4,
   "id": "264a1929",
   "metadata": {
    "execution": {
     "iopub.execute_input": "2024-06-07T11:59:56.923382Z",
     "iopub.status.busy": "2024-06-07T11:59:56.922266Z",
     "iopub.status.idle": "2024-06-07T12:00:12.037062Z",
     "shell.execute_reply": "2024-06-07T12:00:12.035602Z"
    },
    "papermill": {
     "duration": 15.124819,
     "end_time": "2024-06-07T12:00:12.039953",
     "exception": false,
     "start_time": "2024-06-07T11:59:56.915134",
     "status": "completed"
    },
    "tags": []
   },
   "outputs": [
    {
     "name": "stderr",
     "output_type": "stream",
     "text": [
      "2024-06-07 11:59:59.227697: E external/local_xla/xla/stream_executor/cuda/cuda_dnn.cc:9261] Unable to register cuDNN factory: Attempting to register factory for plugin cuDNN when one has already been registered\n",
      "2024-06-07 11:59:59.227817: E external/local_xla/xla/stream_executor/cuda/cuda_fft.cc:607] Unable to register cuFFT factory: Attempting to register factory for plugin cuFFT when one has already been registered\n",
      "2024-06-07 11:59:59.385731: E external/local_xla/xla/stream_executor/cuda/cuda_blas.cc:1515] Unable to register cuBLAS factory: Attempting to register factory for plugin cuBLAS when one has already been registered\n"
     ]
    }
   ],
   "source": [
    "import tensorflow as tf"
   ]
  },
  {
   "cell_type": "code",
   "execution_count": 5,
   "id": "5357622b",
   "metadata": {
    "execution": {
     "iopub.execute_input": "2024-06-07T12:00:12.058267Z",
     "iopub.status.busy": "2024-06-07T12:00:12.057580Z",
     "iopub.status.idle": "2024-06-07T12:00:12.123802Z",
     "shell.execute_reply": "2024-06-07T12:00:12.122613Z"
    },
    "papermill": {
     "duration": 0.078008,
     "end_time": "2024-06-07T12:00:12.126548",
     "exception": false,
     "start_time": "2024-06-07T12:00:12.048540",
     "status": "completed"
    },
    "tags": []
   },
   "outputs": [
    {
     "name": "stdout",
     "output_type": "stream",
     "text": [
      "127771 200000 25554200000\n"
     ]
    }
   ],
   "source": [
    "unique_user_cnt = len(df['user_id'].unique())\n",
    "unique_song_cnt = len(df['song_id'].unique())\n",
    "print(unique_song_cnt, unique_user_cnt, unique_song_cnt*unique_user_cnt)"
   ]
  },
  {
   "cell_type": "code",
   "execution_count": 6,
   "id": "352f4648",
   "metadata": {
    "execution": {
     "iopub.execute_input": "2024-06-07T12:00:12.140907Z",
     "iopub.status.busy": "2024-06-07T12:00:12.140446Z",
     "iopub.status.idle": "2024-06-07T12:00:12.155565Z",
     "shell.execute_reply": "2024-06-07T12:00:12.154280Z"
    },
    "papermill": {
     "duration": 0.025517,
     "end_time": "2024-06-07T12:00:12.158305",
     "exception": false,
     "start_time": "2024-06-07T12:00:12.132788",
     "status": "completed"
    },
    "tags": []
   },
   "outputs": [],
   "source": [
    "# count is being reduced to faster the training process\n",
    "song_ids_to_be_taken = 10000\n",
    "user_ids_to_be_taken = 10000\n",
    "filtered_df = df[(df.user_id <= user_ids_to_be_taken) & (df.song_id <= song_ids_to_be_taken)]\n"
   ]
  },
  {
   "cell_type": "code",
   "execution_count": 7,
   "id": "698a32f9",
   "metadata": {
    "execution": {
     "iopub.execute_input": "2024-06-07T12:00:12.176685Z",
     "iopub.status.busy": "2024-06-07T12:00:12.176258Z",
     "iopub.status.idle": "2024-06-07T12:00:12.194676Z",
     "shell.execute_reply": "2024-06-07T12:00:12.193193Z"
    },
    "papermill": {
     "duration": 0.029632,
     "end_time": "2024-06-07T12:00:12.197443",
     "exception": false,
     "start_time": "2024-06-07T12:00:12.167811",
     "status": "completed"
    },
    "tags": []
   },
   "outputs": [
    {
     "name": "stdout",
     "output_type": "stream",
     "text": [
      "9999 9995 99940005\n"
     ]
    },
    {
     "data": {
      "text/html": [
       "<div>\n",
       "<style scoped>\n",
       "    .dataframe tbody tr th:only-of-type {\n",
       "        vertical-align: middle;\n",
       "    }\n",
       "\n",
       "    .dataframe tbody tr th {\n",
       "        vertical-align: top;\n",
       "    }\n",
       "\n",
       "    .dataframe thead th {\n",
       "        text-align: right;\n",
       "    }\n",
       "</style>\n",
       "<table border=\"1\" class=\"dataframe\">\n",
       "  <thead>\n",
       "    <tr style=\"text-align: right;\">\n",
       "      <th></th>\n",
       "      <th>user_id</th>\n",
       "      <th>song_id</th>\n",
       "      <th>rating</th>\n",
       "    </tr>\n",
       "  </thead>\n",
       "  <tbody>\n",
       "    <tr>\n",
       "      <th>0</th>\n",
       "      <td>0</td>\n",
       "      <td>7171</td>\n",
       "      <td>5</td>\n",
       "    </tr>\n",
       "    <tr>\n",
       "      <th>1</th>\n",
       "      <td>0</td>\n",
       "      <td>8637</td>\n",
       "      <td>4</td>\n",
       "    </tr>\n",
       "    <tr>\n",
       "      <th>10</th>\n",
       "      <td>1</td>\n",
       "      <td>3342</td>\n",
       "      <td>5</td>\n",
       "    </tr>\n",
       "    <tr>\n",
       "      <th>11</th>\n",
       "      <td>1</td>\n",
       "      <td>7522</td>\n",
       "      <td>1</td>\n",
       "    </tr>\n",
       "    <tr>\n",
       "      <th>30</th>\n",
       "      <td>3</td>\n",
       "      <td>1666</td>\n",
       "      <td>1</td>\n",
       "    </tr>\n",
       "    <tr>\n",
       "      <th>...</th>\n",
       "      <td>...</td>\n",
       "      <td>...</td>\n",
       "      <td>...</td>\n",
       "    </tr>\n",
       "    <tr>\n",
       "      <th>99920</th>\n",
       "      <td>9992</td>\n",
       "      <td>1418</td>\n",
       "      <td>5</td>\n",
       "    </tr>\n",
       "    <tr>\n",
       "      <th>99930</th>\n",
       "      <td>9993</td>\n",
       "      <td>6301</td>\n",
       "      <td>5</td>\n",
       "    </tr>\n",
       "    <tr>\n",
       "      <th>99940</th>\n",
       "      <td>9994</td>\n",
       "      <td>5428</td>\n",
       "      <td>1</td>\n",
       "    </tr>\n",
       "    <tr>\n",
       "      <th>99990</th>\n",
       "      <td>9999</td>\n",
       "      <td>1666</td>\n",
       "      <td>5</td>\n",
       "    </tr>\n",
       "    <tr>\n",
       "      <th>99991</th>\n",
       "      <td>9999</td>\n",
       "      <td>3047</td>\n",
       "      <td>1</td>\n",
       "    </tr>\n",
       "  </tbody>\n",
       "</table>\n",
       "<p>7375 rows × 3 columns</p>\n",
       "</div>"
      ],
      "text/plain": [
       "       user_id  song_id  rating\n",
       "0            0     7171       5\n",
       "1            0     8637       4\n",
       "10           1     3342       5\n",
       "11           1     7522       1\n",
       "30           3     1666       1\n",
       "...        ...      ...     ...\n",
       "99920     9992     1418       5\n",
       "99930     9993     6301       5\n",
       "99940     9994     5428       1\n",
       "99990     9999     1666       5\n",
       "99991     9999     3047       1\n",
       "\n",
       "[7375 rows x 3 columns]"
      ]
     },
     "execution_count": 7,
     "metadata": {},
     "output_type": "execute_result"
    }
   ],
   "source": [
    "no_of_user_ids = filtered_df['user_id'].max()\n",
    "no_of_song_ids = filtered_df['song_id'].max()\n",
    "print(no_of_user_ids, no_of_song_ids, no_of_song_ids*no_of_user_ids)\n",
    "filtered_df"
   ]
  },
  {
   "cell_type": "code",
   "execution_count": 8,
   "id": "2fabe8f9",
   "metadata": {
    "execution": {
     "iopub.execute_input": "2024-06-07T12:00:12.212785Z",
     "iopub.status.busy": "2024-06-07T12:00:12.212361Z",
     "iopub.status.idle": "2024-06-07T12:00:12.247774Z",
     "shell.execute_reply": "2024-06-07T12:00:12.246457Z"
    },
    "papermill": {
     "duration": 0.04652,
     "end_time": "2024-06-07T12:00:12.250984",
     "exception": false,
     "start_time": "2024-06-07T12:00:12.204464",
     "status": "completed"
    },
    "tags": []
   },
   "outputs": [],
   "source": [
    "#base matrix => mat - UV^T\n",
    "indices = filtered_df[['user_id', 'song_id']].values\n",
    "ratings = filtered_df['rating'].values\n",
    "matrix = tf.SparseTensor(indices=indices, values=ratings, dense_shape=[10000, 10000])"
   ]
  },
  {
   "cell_type": "code",
   "execution_count": 9,
   "id": "89882eaf",
   "metadata": {
    "execution": {
     "iopub.execute_input": "2024-06-07T12:00:12.266344Z",
     "iopub.status.busy": "2024-06-07T12:00:12.265389Z",
     "iopub.status.idle": "2024-06-07T12:00:12.271078Z",
     "shell.execute_reply": "2024-06-07T12:00:12.269889Z"
    },
    "papermill": {
     "duration": 0.015924,
     "end_time": "2024-06-07T12:00:12.273521",
     "exception": false,
     "start_time": "2024-06-07T12:00:12.257597",
     "status": "completed"
    },
    "tags": []
   },
   "outputs": [],
   "source": [
    "embed_dim = 5\n",
    "user_embed_shape = [10000, embed_dim]\n",
    "song_embed_shape = [10000, embed_dim]\n",
    "\n"
   ]
  },
  {
   "cell_type": "code",
   "execution_count": 10,
   "id": "bf2f5fd8",
   "metadata": {
    "execution": {
     "iopub.execute_input": "2024-06-07T12:00:12.288256Z",
     "iopub.status.busy": "2024-06-07T12:00:12.287824Z",
     "iopub.status.idle": "2024-06-07T12:00:12.294523Z",
     "shell.execute_reply": "2024-06-07T12:00:12.293414Z"
    },
    "papermill": {
     "duration": 0.016653,
     "end_time": "2024-06-07T12:00:12.296790",
     "exception": false,
     "start_time": "2024-06-07T12:00:12.280137",
     "status": "completed"
    },
    "tags": []
   },
   "outputs": [],
   "source": [
    "def cost_fun(W, A, B):\n",
    "    \"\"\"defines the cost function\"\"\"\n",
    "    preds = tf.gather_nd(params=tf.matmul(A, B, transpose_b=True), \n",
    "                        indices=W.indices)\n",
    "    loss =tf.keras.losses.MSE(W.values, preds)\n",
    "    return loss\n",
    "\n",
    "tf.random.set_seed(4)"
   ]
  },
  {
   "cell_type": "code",
   "execution_count": 11,
   "id": "4940624f",
   "metadata": {
    "execution": {
     "iopub.execute_input": "2024-06-07T12:00:12.311279Z",
     "iopub.status.busy": "2024-06-07T12:00:12.310847Z",
     "iopub.status.idle": "2024-06-07T12:00:12.337651Z",
     "shell.execute_reply": "2024-06-07T12:00:12.336365Z"
    },
    "papermill": {
     "duration": 0.037217,
     "end_time": "2024-06-07T12:00:12.340450",
     "exception": false,
     "start_time": "2024-06-07T12:00:12.303233",
     "status": "completed"
    },
    "tags": []
   },
   "outputs": [],
   "source": [
    "user_embed_mat = tf.Variable(tf.random.normal(user_embed_shape, stddev=0.5, mean=0))\n",
    "song_embed_mat = tf.Variable(tf.random.normal(song_embed_shape, stddev=0.5, mean=0))"
   ]
  },
  {
   "cell_type": "code",
   "execution_count": 12,
   "id": "dccb6807",
   "metadata": {
    "execution": {
     "iopub.execute_input": "2024-06-07T12:00:12.358343Z",
     "iopub.status.busy": "2024-06-07T12:00:12.357911Z",
     "iopub.status.idle": "2024-06-07T12:00:12.371363Z",
     "shell.execute_reply": "2024-06-07T12:00:12.369986Z"
    },
    "papermill": {
     "duration": 0.025634,
     "end_time": "2024-06-07T12:00:12.374259",
     "exception": false,
     "start_time": "2024-06-07T12:00:12.348625",
     "status": "completed"
    },
    "tags": []
   },
   "outputs": [],
   "source": [
    "class Model():\n",
    "    def __init__(self, ratings_mat, embeddings, iterations, learning_rate, loss_fun, metrics=None):\n",
    "        self.embeddings = embeddings\n",
    "        self.learning_rate = learning_rate\n",
    "        self.loss = loss_fun\n",
    "        self.history = []\n",
    "        self.iteration = iterations\n",
    "        self.optimizer = tf.keras.optimizers.Adam(learning_rate=self.learning_rate)\n",
    "        self.ratings_mat = ratings_mat\n",
    "    def embeddings(self):\n",
    "        return self.embeddings\n",
    "    def train(self):\n",
    "        weights = [self.embeddings['user_embed'], self.embeddings['song_embed']]\n",
    "        for i in range(self.iteration):\n",
    "            with tf.GradientTape() as tape:\n",
    "                train_loss_val = self.loss(self.ratings_mat, weights[0], weights[1])\n",
    "                grads = tape.gradient(train_loss_val, weights)\n",
    "                self.optimizer.apply_gradients(zip(grads, weights))\n",
    "                if i%100:\n",
    "                    print(f\"train_loss : {train_loss_val}\")\n",
    "                \n",
    "                if i%10:\n",
    "                    self.history.append(train_loss_val)\n",
    "        self.embeddings['user_embed'] = weights[0]\n",
    "        self.embeddings['song_embed'] = weights[1]\n",
    "    \n",
    "    def training_plot(self):\n",
    "        iterations =[ i*10 for i in enumerate(self.history)]\n",
    "        plt.plot(iterations,self.history)\n",
    "        plt.show()\n",
    "    def predict(self, song_id=None, user_id=None):\n",
    "        user_embed = self.embeddings['user_embed'][user_id]\n",
    "        song_embed = self.embeddings['song_embed'][song_id]\n",
    "        \n",
    "        return tf.reduce_sum(user_embed*song_embed).numpy()\n",
    "    \n",
    "    def true_rating(self, song_idx, user_idx):\n",
    "        sparse_slice = tf.sparse.slice(self.ratings_mat, [song_idx, user_idx], [1, 1])\n",
    "\n",
    "        # Convert the slice to dense to access the value\n",
    "        dense_slice = tf.sparse.to_dense(sparse_slice)\n",
    "\n",
    "        # Assuming the slice contains a single value, extract it\n",
    "        value = dense_slice.numpy()[0, 0]\n",
    "        return value\n",
    "\n",
    "    \n",
    "    "
   ]
  },
  {
   "cell_type": "code",
   "execution_count": null,
   "id": "7fa4f9a3",
   "metadata": {
    "papermill": {
     "duration": 0.006132,
     "end_time": "2024-06-07T12:00:12.387658",
     "exception": false,
     "start_time": "2024-06-07T12:00:12.381526",
     "status": "completed"
    },
    "tags": []
   },
   "outputs": [],
   "source": []
  },
  {
   "cell_type": "code",
   "execution_count": null,
   "id": "5a601236",
   "metadata": {
    "papermill": {
     "duration": 0.00638,
     "end_time": "2024-06-07T12:00:12.400480",
     "exception": false,
     "start_time": "2024-06-07T12:00:12.394100",
     "status": "completed"
    },
    "tags": []
   },
   "outputs": [],
   "source": []
  },
  {
   "cell_type": "code",
   "execution_count": 13,
   "id": "960a80c3",
   "metadata": {
    "execution": {
     "iopub.execute_input": "2024-06-07T12:00:12.415366Z",
     "iopub.status.busy": "2024-06-07T12:00:12.414954Z",
     "iopub.status.idle": "2024-06-07T12:00:12.422328Z",
     "shell.execute_reply": "2024-06-07T12:00:12.421116Z"
    },
    "papermill": {
     "duration": 0.017646,
     "end_time": "2024-06-07T12:00:12.424515",
     "exception": false,
     "start_time": "2024-06-07T12:00:12.406869",
     "status": "completed"
    },
    "tags": []
   },
   "outputs": [
    {
     "data": {
      "text/plain": [
       "<tf.Tensor: shape=(7375, 2), dtype=int64, numpy=\n",
       "array([[   0, 7171],\n",
       "       [   0, 8637],\n",
       "       [   1, 3342],\n",
       "       ...,\n",
       "       [9994, 5428],\n",
       "       [9999, 1666],\n",
       "       [9999, 3047]])>"
      ]
     },
     "execution_count": 13,
     "metadata": {},
     "output_type": "execute_result"
    }
   ],
   "source": [
    "# user_embed_mat == song_embed_mat\n",
    "matrix.indices"
   ]
  },
  {
   "cell_type": "code",
   "execution_count": 14,
   "id": "224d0de3",
   "metadata": {
    "execution": {
     "iopub.execute_input": "2024-06-07T12:00:12.439193Z",
     "iopub.status.busy": "2024-06-07T12:00:12.438792Z",
     "iopub.status.idle": "2024-06-07T12:00:12.491403Z",
     "shell.execute_reply": "2024-06-07T12:00:12.490215Z"
    },
    "papermill": {
     "duration": 0.063067,
     "end_time": "2024-06-07T12:00:12.494076",
     "exception": false,
     "start_time": "2024-06-07T12:00:12.431009",
     "status": "completed"
    },
    "tags": []
   },
   "outputs": [],
   "source": [
    "embeddings = {'user_embed': user_embed_mat, 'song_embed': song_embed_mat}\n",
    "matrix_fact_model = Model(matrix, embeddings, 200, 0.001, cost_fun)"
   ]
  },
  {
   "cell_type": "code",
   "execution_count": 15,
   "id": "21fbe8cc",
   "metadata": {
    "execution": {
     "iopub.execute_input": "2024-06-07T12:00:12.510039Z",
     "iopub.status.busy": "2024-06-07T12:00:12.509637Z",
     "iopub.status.idle": "2024-06-07T12:01:33.659701Z",
     "shell.execute_reply": "2024-06-07T12:01:33.658231Z"
    },
    "papermill": {
     "duration": 81.161295,
     "end_time": "2024-06-07T12:01:33.662665",
     "exception": false,
     "start_time": "2024-06-07T12:00:12.501370",
     "status": "completed"
    },
    "tags": []
   },
   "outputs": [
    {
     "name": "stdout",
     "output_type": "stream",
     "text": [
      "train_loss : 14.928492546081543\n",
      "train_loss : 14.90900707244873\n",
      "train_loss : 14.889535903930664\n",
      "train_loss : 14.870081901550293\n",
      "train_loss : 14.8506498336792\n",
      "train_loss : 14.831241607666016\n",
      "train_loss : 14.811853408813477\n",
      "train_loss : 14.792495727539062\n",
      "train_loss : 14.773159980773926\n",
      "train_loss : 14.753852844238281\n",
      "train_loss : 14.734569549560547\n",
      "train_loss : 14.715314865112305\n",
      "train_loss : 14.696084976196289\n",
      "train_loss : 14.676883697509766\n",
      "train_loss : 14.657706260681152\n",
      "train_loss : 14.638555526733398\n",
      "train_loss : 14.619431495666504\n",
      "train_loss : 14.600330352783203\n",
      "train_loss : 14.581257820129395\n",
      "train_loss : 14.562210083007812\n",
      "train_loss : 14.543183326721191\n",
      "train_loss : 14.52418327331543\n",
      "train_loss : 14.505208969116211\n",
      "train_loss : 14.486254692077637\n",
      "train_loss : 14.467325210571289\n",
      "train_loss : 14.44841480255127\n",
      "train_loss : 14.42952823638916\n",
      "train_loss : 14.410664558410645\n",
      "train_loss : 14.39181900024414\n",
      "train_loss : 14.372994422912598\n",
      "train_loss : 14.354188919067383\n",
      "train_loss : 14.335402488708496\n",
      "train_loss : 14.316633224487305\n",
      "train_loss : 14.297882080078125\n",
      "train_loss : 14.279149055480957\n",
      "train_loss : 14.260432243347168\n",
      "train_loss : 14.241729736328125\n",
      "train_loss : 14.223044395446777\n",
      "train_loss : 14.204370498657227\n",
      "train_loss : 14.185712814331055\n",
      "train_loss : 14.167065620422363\n",
      "train_loss : 14.148431777954102\n",
      "train_loss : 14.129810333251953\n",
      "train_loss : 14.111201286315918\n",
      "train_loss : 14.092599868774414\n",
      "train_loss : 14.07400894165039\n",
      "train_loss : 14.055426597595215\n",
      "train_loss : 14.036852836608887\n",
      "train_loss : 14.01828670501709\n",
      "train_loss : 13.999728202819824\n",
      "train_loss : 13.981175422668457\n",
      "train_loss : 13.962627410888672\n",
      "train_loss : 13.944087028503418\n",
      "train_loss : 13.925549507141113\n",
      "train_loss : 13.907014846801758\n",
      "train_loss : 13.888484001159668\n",
      "train_loss : 13.869956970214844\n",
      "train_loss : 13.85142993927002\n",
      "train_loss : 13.832905769348145\n",
      "train_loss : 13.814382553100586\n",
      "train_loss : 13.795858383178711\n",
      "train_loss : 13.777332305908203\n",
      "train_loss : 13.758807182312012\n",
      "train_loss : 13.740278244018555\n",
      "train_loss : 13.721748352050781\n",
      "train_loss : 13.703214645385742\n",
      "train_loss : 13.684678077697754\n",
      "train_loss : 13.666136741638184\n",
      "train_loss : 13.64759349822998\n",
      "train_loss : 13.629043579101562\n",
      "train_loss : 13.610485076904297\n",
      "train_loss : 13.59192180633545\n",
      "train_loss : 13.573352813720703\n",
      "train_loss : 13.554776191711426\n",
      "train_loss : 13.536191940307617\n",
      "train_loss : 13.517598152160645\n",
      "train_loss : 13.498994827270508\n",
      "train_loss : 13.480385780334473\n",
      "train_loss : 13.461762428283691\n",
      "train_loss : 13.443132400512695\n",
      "train_loss : 13.424488067626953\n",
      "train_loss : 13.40583324432373\n",
      "train_loss : 13.38716983795166\n",
      "train_loss : 13.368492126464844\n",
      "train_loss : 13.349802017211914\n",
      "train_loss : 13.331097602844238\n",
      "train_loss : 13.312382698059082\n",
      "train_loss : 13.293651580810547\n",
      "train_loss : 13.274903297424316\n",
      "train_loss : 13.256144523620605\n",
      "train_loss : 13.23736572265625\n",
      "train_loss : 13.218576431274414\n",
      "train_loss : 13.199769973754883\n",
      "train_loss : 13.180944442749023\n",
      "train_loss : 13.162103652954102\n",
      "train_loss : 13.143245697021484\n",
      "train_loss : 13.124371528625488\n",
      "train_loss : 13.105477333068848\n",
      "train_loss : 13.086565971374512\n",
      "train_loss : 13.048685073852539\n",
      "train_loss : 13.029718399047852\n",
      "train_loss : 13.010730743408203\n",
      "train_loss : 12.991722106933594\n",
      "train_loss : 12.972692489624023\n",
      "train_loss : 12.953642845153809\n",
      "train_loss : 12.934574127197266\n",
      "train_loss : 12.915483474731445\n",
      "train_loss : 12.896369934082031\n",
      "train_loss : 12.877235412597656\n",
      "train_loss : 12.85807991027832\n",
      "train_loss : 12.838900566101074\n",
      "train_loss : 12.81969928741455\n",
      "train_loss : 12.8004732131958\n",
      "train_loss : 12.781225204467773\n",
      "train_loss : 12.761954307556152\n",
      "train_loss : 12.742659568786621\n",
      "train_loss : 12.72334098815918\n",
      "train_loss : 12.704000473022461\n",
      "train_loss : 12.684632301330566\n",
      "train_loss : 12.665241241455078\n",
      "train_loss : 12.645825386047363\n",
      "train_loss : 12.626383781433105\n",
      "train_loss : 12.606916427612305\n",
      "train_loss : 12.587425231933594\n",
      "train_loss : 12.56790828704834\n",
      "train_loss : 12.548365592956543\n",
      "train_loss : 12.52879524230957\n",
      "train_loss : 12.509199142456055\n",
      "train_loss : 12.489578247070312\n",
      "train_loss : 12.469929695129395\n",
      "train_loss : 12.45025634765625\n",
      "train_loss : 12.430554389953613\n",
      "train_loss : 12.4108247756958\n",
      "train_loss : 12.391068458557129\n",
      "train_loss : 12.371286392211914\n",
      "train_loss : 12.351475715637207\n",
      "train_loss : 12.331637382507324\n",
      "train_loss : 12.311772346496582\n",
      "train_loss : 12.291877746582031\n",
      "train_loss : 12.271957397460938\n",
      "train_loss : 12.252007484436035\n",
      "train_loss : 12.232030868530273\n",
      "train_loss : 12.212024688720703\n",
      "train_loss : 12.191990852355957\n",
      "train_loss : 12.171928405761719\n",
      "train_loss : 12.151834487915039\n",
      "train_loss : 12.131714820861816\n",
      "train_loss : 12.111566543579102\n",
      "train_loss : 12.091389656066895\n",
      "train_loss : 12.071184158325195\n",
      "train_loss : 12.050946235656738\n",
      "train_loss : 12.030682563781738\n",
      "train_loss : 12.010388374328613\n",
      "train_loss : 11.990065574645996\n",
      "train_loss : 11.969714164733887\n",
      "train_loss : 11.949332237243652\n",
      "train_loss : 11.928921699523926\n",
      "train_loss : 11.90848159790039\n",
      "train_loss : 11.888011932373047\n",
      "train_loss : 11.867513656616211\n",
      "train_loss : 11.846983909606934\n",
      "train_loss : 11.82642650604248\n",
      "train_loss : 11.805838584899902\n",
      "train_loss : 11.785221099853516\n",
      "train_loss : 11.76457405090332\n",
      "train_loss : 11.743898391723633\n",
      "train_loss : 11.723193168640137\n",
      "train_loss : 11.7024564743042\n",
      "train_loss : 11.681692123413086\n",
      "train_loss : 11.660897254943848\n",
      "train_loss : 11.640073776245117\n",
      "train_loss : 11.619220733642578\n",
      "train_loss : 11.598337173461914\n",
      "train_loss : 11.577425956726074\n",
      "train_loss : 11.55648422241211\n",
      "train_loss : 11.53551197052002\n",
      "train_loss : 11.514512062072754\n",
      "train_loss : 11.49347972869873\n",
      "train_loss : 11.472423553466797\n",
      "train_loss : 11.451334953308105\n",
      "train_loss : 11.430218696594238\n",
      "train_loss : 11.409071922302246\n",
      "train_loss : 11.387896537780762\n",
      "train_loss : 11.366691589355469\n",
      "train_loss : 11.345458984375\n",
      "train_loss : 11.324195861816406\n",
      "train_loss : 11.30290699005127\n",
      "train_loss : 11.281587600708008\n",
      "train_loss : 11.260239601135254\n",
      "train_loss : 11.238862991333008\n",
      "train_loss : 11.217458724975586\n",
      "train_loss : 11.196026802062988\n",
      "train_loss : 11.174565315246582\n",
      "train_loss : 11.153076171875\n",
      "train_loss : 11.131558418273926\n",
      "train_loss : 11.110013961791992\n",
      "train_loss : 11.088441848754883\n",
      "train_loss : 11.066842079162598\n"
     ]
    }
   ],
   "source": [
    "matrix_fact_model.train()"
   ]
  },
  {
   "cell_type": "code",
   "execution_count": 16,
   "id": "c703adcd",
   "metadata": {
    "execution": {
     "iopub.execute_input": "2024-06-07T12:01:33.704233Z",
     "iopub.status.busy": "2024-06-07T12:01:33.703464Z",
     "iopub.status.idle": "2024-06-07T12:01:34.042378Z",
     "shell.execute_reply": "2024-06-07T12:01:34.040738Z"
    },
    "papermill": {
     "duration": 0.363106,
     "end_time": "2024-06-07T12:01:34.046134",
     "exception": false,
     "start_time": "2024-06-07T12:01:33.683028",
     "status": "completed"
    },
    "tags": []
   },
   "outputs": [
    {
     "data": {
      "text/plain": [
       "[<matplotlib.lines.Line2D at 0x7bea0e7891e0>]"
      ]
     },
     "execution_count": 16,
     "metadata": {},
     "output_type": "execute_result"
    },
    {
     "data": {
      "image/png": "[encoded data removed]",
      "text/plain": [
       "<Figure size 640x480 with 1 Axes>"
      ]
     },
     "metadata": {},
     "output_type": "display_data"
    }
   ],
   "source": [
    "import matplotlib.pyplot as plt\n",
    "history = [i.numpy() for i in matrix_fact_model.history]\n",
    "x = [i[0] for i in enumerate(history)]\n",
    "plt.plot(x, history)"
   ]
  },
  {
   "cell_type": "markdown",
   "id": "6f15ba3f",
   "metadata": {
    "papermill": {
     "duration": 0.019462,
     "end_time": "2024-06-07T12:01:34.087068",
     "exception": false,
     "start_time": "2024-06-07T12:01:34.067606",
     "status": "completed"
    },
    "tags": []
   },
   "source": []
  },
  {
   "cell_type": "code",
   "execution_count": 17,
   "id": "0245085b",
   "metadata": {
    "execution": {
     "iopub.execute_input": "2024-06-07T12:01:34.127903Z",
     "iopub.status.busy": "2024-06-07T12:01:34.127048Z",
     "iopub.status.idle": "2024-06-07T12:01:34.146479Z",
     "shell.execute_reply": "2024-06-07T12:01:34.145024Z"
    },
    "papermill": {
     "duration": 0.042812,
     "end_time": "2024-06-07T12:01:34.149298",
     "exception": false,
     "start_time": "2024-06-07T12:01:34.106486",
     "status": "completed"
    },
    "tags": []
   },
   "outputs": [
    {
     "data": {
      "text/plain": [
       "0.76901174"
      ]
     },
     "execution_count": 17,
     "metadata": {},
     "output_type": "execute_result"
    }
   ],
   "source": [
    "matrix_fact_model.predict(7171, 0)"
   ]
  },
  {
   "cell_type": "code",
   "execution_count": 18,
   "id": "55293fdd",
   "metadata": {
    "execution": {
     "iopub.execute_input": "2024-06-07T12:01:34.191131Z",
     "iopub.status.busy": "2024-06-07T12:01:34.190728Z",
     "iopub.status.idle": "2024-06-07T12:01:34.204738Z",
     "shell.execute_reply": "2024-06-07T12:01:34.203128Z"
    },
    "papermill": {
     "duration": 0.037495,
     "end_time": "2024-06-07T12:01:34.207446",
     "exception": false,
     "start_time": "2024-06-07T12:01:34.169951",
     "status": "completed"
    },
    "tags": []
   },
   "outputs": [
    {
     "data": {
      "text/plain": [
       "5"
      ]
     },
     "execution_count": 18,
     "metadata": {},
     "output_type": "execute_result"
    }
   ],
   "source": [
    "matrix_fact_model.true_rating(0, 7171)"
   ]
  },
  {
   "cell_type": "code",
   "execution_count": 19,
   "id": "384098bc",
   "metadata": {
    "execution": {
     "iopub.execute_input": "2024-06-07T12:01:34.253271Z",
     "iopub.status.busy": "2024-06-07T12:01:34.252840Z",
     "iopub.status.idle": "2024-06-07T12:01:34.258351Z",
     "shell.execute_reply": "2024-06-07T12:01:34.256927Z"
    },
    "papermill": {
     "duration": 0.03197,
     "end_time": "2024-06-07T12:01:34.260969",
     "exception": false,
     "start_time": "2024-06-07T12:01:34.228999",
     "status": "completed"
    },
    "tags": []
   },
   "outputs": [],
   "source": [
    "#over fitting has taken place"
   ]
  },
  {
   "cell_type": "code",
   "execution_count": null,
   "id": "8c1669a2",
   "metadata": {
    "papermill": {
     "duration": 0.021318,
     "end_time": "2024-06-07T12:01:34.303409",
     "exception": false,
     "start_time": "2024-06-07T12:01:34.282091",
     "status": "completed"
    },
    "tags": []
   },
   "outputs": [],
   "source": []
  }
 ],
 "metadata": {
  "kaggle": {
   "accelerator": "none",
   "dataSources": [
    {
     "datasetId": 581,
     "sourceId": 1106,
     "sourceType": "datasetVersion"
    }
   ],
   "dockerImageVersionId": 30715,
   "isGpuEnabled": false,
   "isInternetEnabled": false,
   "language": "python",
   "sourceType": "notebook"
  },
  "kernelspec": {
   "display_name": "Python 3",
   "language": "python",
   "name": "python3"
  },
  "language_info": {
   "codemirror_mode": {
    "name": "ipython",
    "version": 3
   },
   "file_extension": ".py",
   "mimetype": "text/x-python",
   "name": "python",
   "nbconvert_exporter": "python",
   "pygments_lexer": "ipython3",
   "version": "3.10.13"
  },
  "papermill": {
   "default_parameters": {},
   "duration": 104.148515,
   "end_time": "2024-06-07T12:01:35.849758",
   "environment_variables": {},
   "exception": null,
   "input_path": "__notebook__.ipynb",
   "output_path": "__notebook__.ipynb",
   "parameters": {},
   "start_time": "2024-06-07T11:59:51.701243",
   "version": "2.5.0"
  }
 },
 "nbformat": 4,
 "nbformat_minor": 5
}
